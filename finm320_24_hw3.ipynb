{
 "cells": [
  {
   "cell_type": "code",
   "execution_count": 101,
   "metadata": {
    "id": "MjZ7LuUcTu17",
    "ExecuteTime": {
     "end_time": "2024-04-16T02:25:47.169807Z",
     "start_time": "2024-04-16T02:25:47.167015Z"
    }
   },
   "outputs": [],
   "source": [
    "import numpy as np\n",
    "import pandas as Pd"
   ]
  },
  {
   "cell_type": "code",
   "execution_count": 102,
   "metadata": {
    "id": "3LaJWkN1Tu1_",
    "ExecuteTime": {
     "end_time": "2024-04-16T02:25:47.325185Z",
     "start_time": "2024-04-16T02:25:47.321801Z"
    }
   },
   "outputs": [],
   "source": [
    "class Vasicek:\n",
    "\n",
    "    def __init__(self,kappa,theta,sigma):\n",
    "        self.kappa=kappa\n",
    "        self.theta=theta\n",
    "        self.sigma=sigma"
   ]
  },
  {
   "cell_type": "code",
   "execution_count": 103,
   "metadata": {
    "id": "el5nStVUTu2A",
    "ExecuteTime": {
     "end_time": "2024-04-16T02:25:47.493128Z",
     "start_time": "2024-04-16T02:25:47.490752Z"
    }
   },
   "outputs": [],
   "source": [
    "hw3dynamics = Vasicek(kappa=3,theta=0.05,sigma=0.03)"
   ]
  },
  {
   "cell_type": "code",
   "execution_count": 104,
   "metadata": {
    "id": "riJtW90ITu2B",
    "ExecuteTime": {
     "end_time": "2024-04-16T02:25:47.660980Z",
     "start_time": "2024-04-16T02:25:47.658692Z"
    }
   },
   "outputs": [],
   "source": [
    "class Bond:\n",
    "\n",
    "    def __init__(self, T):\n",
    "        self.T=T\n"
   ]
  },
  {
   "cell_type": "code",
   "execution_count": 105,
   "metadata": {
    "id": "-o3SCZyDTu2B",
    "ExecuteTime": {
     "end_time": "2024-04-16T02:25:47.847879Z",
     "start_time": "2024-04-16T02:25:47.845792Z"
    }
   },
   "outputs": [],
   "source": [
    "hw3contract = Bond(T=5)"
   ]
  },
  {
   "cell_type": "code",
   "execution_count": 106,
   "metadata": {
    "id": "ppGipd6OTu2C",
    "ExecuteTime": {
     "end_time": "2024-04-16T02:25:48.039100Z",
     "start_time": "2024-04-16T02:25:48.032772Z"
    }
   },
   "outputs": [],
   "source": [
    "class FDexplicitEngine:\n",
    "\n",
    "    def __init__(self, rMax, rMin, deltar, deltat, useUpwind):\n",
    "        self.rMax=rMax\n",
    "        self.rMin=rMin\n",
    "        self.deltar=deltar\n",
    "        self.deltat=deltat\n",
    "        self.useUpwind=useUpwind\n",
    "\n",
    "    def price_bond_vasicek(self,contract,dynamics):\n",
    "    # You complete the coding of this function\n",
    "    #\n",
    "    # Returns array of all initial short rates,\n",
    "    # and the corresponding array of zero-coupon\n",
    "    # T-maturity bond prices\n",
    "        deltax=self.deltar\n",
    "        deltat=self.deltat\n",
    "        T = contract.T\n",
    "        N=round(T/self.deltat)\n",
    "        if abs(N-T/self.deltat) > 1e-12:\n",
    "            raise ValueError(\"Bad delta t\")\n",
    "\n",
    "        r=np.arange(self.rMax,self.rMin-self.deltar/2,-self.deltar)   \n",
    "        #I'm making the FIRST indices of the array correspond to HIGH levels of r\n",
    "        bondprice=np.ones(np.size(r))\n",
    "\n",
    "        if self.useUpwind: # special useUpwind calculation \n",
    "            nu = dynamics.kappa * (dynamics.theta - r)\n",
    "            param_1 = (np.power(dynamics.sigma, 2) * self.deltat) / (2 * np.power(self.deltar, 2))\n",
    "            param_2 = deltat / deltax * nu\n",
    "            qu = np.where(nu >= 0, param_1 + param_2, param_1)\n",
    "            qd = np.where(nu >= 0, param_1, param_1 - param_2)\n",
    "            qm = 1 - qu - qd\n",
    "            \n",
    "        else: # normal calculation way\n",
    "            \n",
    "            nu = dynamics.kappa * (dynamics.theta - r)\n",
    "            param_1 = (np.power(dynamics.sigma, 2) * self.deltat) / (np.power(self.deltar, 2))\n",
    "            qu = 0.5*(param_1 + nu*deltat/deltax)\n",
    "            qd = 0.5*(param_1 - nu*deltat/deltax)\n",
    "            qm = 1 - qd - qu\n",
    "            \n",
    "\n",
    "        for t in np.arange(N-1,-1,-1)*self.deltat:\n",
    "            bondprice=1/(1+r*self.deltat)*(qd*np.roll(bondprice,-1)+qm*bondprice+qu*np.roll(bondprice,1))\n",
    "\n",
    "            # It is not obvious in this case,\n",
    "            # what boundary conditions to use at the top and bottom\n",
    "            # so let us assume \"linearity\" boundary conditions\n",
    "            bondprice[0]=2*bondprice[1]-bondprice[2]\n",
    "            bondprice[-1]=2*bondprice[-2]-bondprice[-3]\n",
    "\n",
    "        return (r, bondprice,qu,qd,param_1)"
   ]
  },
  {
   "cell_type": "markdown",
   "source": [
    "Q1.a\n",
    "\n",
    "$\\ dC = C'_r \\ dr + C'_t \\  dt + 0.5 C''_{rr} \\ d^2r$\n",
    "\n",
    "\n",
    "\n",
    "plug in $\\ dr = a(r_t, t) \\ dt + b(r_t, t) \\ dW_t$\n",
    "\n",
    "\n",
    "\n",
    "and the drift term of $\\ dC$ is rC\n",
    "\n",
    "\n",
    "\n",
    "$\\frac{\\partial C}{\\partial r_t} a(r_t, t) + \\frac{1}{2} \\frac{\\partial^2 C}{\\partial r_t^2} b^2(r_t, t) + \\frac{\\partial C}{\\partial t} = rC$\n"
   ],
   "metadata": {
    "collapsed": false
   }
  },
  {
   "cell_type": "markdown",
   "source": [
    "#Q1.d\n",
    "see the pdf file\n"
   ],
   "metadata": {
    "collapsed": false
   }
  },
  {
   "cell_type": "code",
   "outputs": [
    {
     "name": "stdout",
     "output_type": "stream",
     "text": [
      "[[ 1.5000e-01 -1.4273e+09]\n",
      " [ 1.4000e-01  1.6361e+08]\n",
      " [ 1.3000e-01  2.2294e+07]\n",
      " [ 1.2000e-01 -1.3724e+06]\n",
      " [ 1.1000e-01 -1.3361e+05]\n",
      " [ 1.0000e-01  3.2966e+03]\n",
      " [ 9.0000e-02  1.3021e+02]\n",
      " [ 8.0000e-02  7.7128e-01]\n",
      " [ 7.0000e-02  7.7385e-01]\n",
      " [ 6.0000e-02  7.7643e-01]\n",
      " [ 5.0000e-02  7.7902e-01]\n",
      " [ 4.0000e-02  7.8162e-01]\n",
      " [ 3.0000e-02  7.8423e-01]\n",
      " [ 2.0000e-02  7.8685e-01]\n",
      " [ 1.0000e-02  1.4165e+03]\n",
      " [-3.3307e-16  5.1498e+04]]\n"
     ]
    }
   ],
   "source": [
    "#Q1.e central difference\n",
    "hw3FD = FDexplicitEngine(rMax=0.35, rMin=-0.25, deltar=0.01, deltat=0.01, useUpwind=False)\n",
    "(r, bondprice,qu,qd,para_1) = hw3FD.price_bond_vasicek(hw3contract, hw3dynamics)\n",
    "np.set_printoptions(precision=4, suppress=True)\n",
    "displayrows = (r < 0.15 + hw3FD.deltar / 2) & (r > 0.0 - hw3FD.deltar / 2)\n",
    "print(np.stack((r, bondprice), axis=1)[displayrows])"
   ],
   "metadata": {
    "collapsed": false,
    "ExecuteTime": {
     "end_time": "2024-04-16T02:25:48.610900Z",
     "start_time": "2024-04-16T02:25:48.600078Z"
    }
   },
   "execution_count": 107
  },
  {
   "cell_type": "code",
   "outputs": [
    {
     "name": "stdout",
     "output_type": "stream",
     "text": [
      "[[ 0.15    0.7536]\n",
      " [ 0.14    0.7561]\n",
      " [ 0.13    0.7586]\n",
      " [ 0.12    0.7611]\n",
      " [ 0.11    0.7637]\n",
      " [ 0.1     0.7662]\n",
      " [ 0.09    0.7688]\n",
      " [ 0.08    0.7713]\n",
      " [ 0.07    0.7739]\n",
      " [ 0.06    0.7765]\n",
      " [ 0.05    0.7791]\n",
      " [ 0.04    0.7817]\n",
      " [ 0.03    0.7843]\n",
      " [ 0.02    0.7869]\n",
      " [ 0.01    0.7895]\n",
      " [-0.      0.7922]]\n"
     ]
    }
   ],
   "source": [
    "#use Upwind\n",
    "hw3FD = FDexplicitEngine(rMax=0.35, rMin=-0.25, deltar=0.01, deltat=0.01, useUpwind=True)\n",
    "(r, bondprice,qu,qd,para_1) = hw3FD.price_bond_vasicek(hw3contract, hw3dynamics)\n",
    "np.set_printoptions(precision=4, suppress=True)\n",
    "displayrows = (r < 0.15 + hw3FD.deltar / 2) & (r > 0.0 - hw3FD.deltar / 2)\n",
    "print(np.stack((r, bondprice), axis=1)[displayrows])"
   ],
   "metadata": {
    "collapsed": false,
    "ExecuteTime": {
     "end_time": "2024-04-16T02:25:50.448944Z",
     "start_time": "2024-04-16T02:25:50.434221Z"
    }
   },
   "execution_count": 111
  },
  {
   "cell_type": "markdown",
   "source": [
    "As a rsult, the calculation using upwind method is more accurate"
   ],
   "metadata": {
    "collapsed": false
   }
  },
  {
   "cell_type": "markdown",
   "source": [
    "Q1.f\n",
    "Ignoring stability issues and considering only consistency (i.e. “truncation error,”\n",
    "also known as “local discretization error”), the upwind explicit scheme, which uses\n",
    "one-sided spatial differences, discretizes the PDE with ***less*** accuracy than the\n",
    "standard explicit scheme, which uses central spatial differences.\n",
    "However, to actually guarantee convergence, the grid spacing must satisfy certain\n",
    "stability constraints. In a PDE exhibiting strong drift, we have just seen that these\n",
    "constraints may allow the upwind scheme ***more*** freedom in choosing grid spacing,\n",
    "compared to the standard scheme."
   ],
   "metadata": {
    "collapsed": false
   }
  },
  {
   "cell_type": "code",
   "outputs": [
    {
     "data": {
      "text/plain": "0.054598104741758226"
     },
     "metadata": {},
     "output_type": "display_data"
    }
   ],
   "source": [
    "#Q1.g\n",
    "#r=0.12\n",
    "display(np.log(1/0.7611) / 5)"
   ],
   "metadata": {
    "collapsed": false,
    "ExecuteTime": {
     "end_time": "2024-04-16T03:00:48.305860Z",
     "start_time": "2024-04-16T03:00:48.301626Z"
    }
   },
   "execution_count": 117
  },
  {
   "cell_type": "code",
   "outputs": [
    {
     "data": {
      "text/plain": "0.04793082068823988"
     },
     "metadata": {},
     "output_type": "display_data"
    }
   ],
   "source": [
    "#r=0.02\n",
    "display(np.log(1/0.7869) / 5)"
   ],
   "metadata": {
    "collapsed": false,
    "ExecuteTime": {
     "end_time": "2024-04-16T03:01:22.589428Z",
     "start_time": "2024-04-16T03:01:22.585791Z"
    }
   },
   "execution_count": 118
  },
  {
   "cell_type": "markdown",
   "source": [
    "when r=0.12 then drift become nagetive. then the YTM going down. However, when r =0.02 the drift is positive so the YTM is bigger than 0.02"
   ],
   "metadata": {
    "collapsed": false
   }
  },
  {
   "cell_type": "code",
   "outputs": [],
   "source": [],
   "metadata": {
    "collapsed": false
   }
  },
  {
   "cell_type": "markdown",
   "source": [
    "Q2.a\n",
    "\n",
    "delta = N(d1)\n",
    "\n",
    "d1 = (log(S_0/K) + (r+sigma^2/2) * T)/ (sigma * sqrt(T))\n",
    "\n",
    "so as a result delta = N^{-1}(d1) which indicates we could have an equation K = f(S_0, delta, sigma, T, r)"
   ],
   "metadata": {
    "collapsed": false
   }
  },
  {
   "cell_type": "code",
   "outputs": [
    {
     "data": {
      "text/plain": "322.4127345545695"
     },
     "execution_count": 132,
     "metadata": {},
     "output_type": "execute_result"
    }
   ],
   "source": [
    "#Q2.b\n",
    "\n",
    "from scipy.stats import norm\n",
    "import numpy as np\n",
    "\n",
    "delta = 0.25\n",
    "S0 = 300\n",
    "T = 1/12\n",
    "sigma = 0.4\n",
    "r = 0.01\n",
    "N_inv_delta = norm.ppf(delta)\n",
    "\n",
    "K_25 = S0 * np.exp(-N_inv_delta * sigma * np.sqrt(T) + (r - 0.5 * sigma**2) * T)\n",
    "K_25    "
   ],
   "metadata": {
    "collapsed": false,
    "ExecuteTime": {
     "end_time": "2024-04-16T21:24:00.338158Z",
     "start_time": "2024-04-16T21:24:00.332756Z"
    }
   },
   "execution_count": 132
  },
  {
   "cell_type": "code",
   "outputs": [
    {
     "data": {
      "text/plain": "28.80903631539175"
     },
     "execution_count": 133,
     "metadata": {},
     "output_type": "execute_result"
    }
   ],
   "source": [
    "d1 = (np.log(S0 / K) + (r + 0.5 * sigma**2) * T) / (sigma * np.sqrt(T))\n",
    "d2 = d1 - sigma * np.sqrt(T)\n",
    "call_price_25 = (S0 * norm.cdf(d1) - K * np.exp(-r * T) * norm.cdf(d2))\n",
    "call_price_25"
   ],
   "metadata": {
    "collapsed": false,
    "ExecuteTime": {
     "end_time": "2024-04-16T21:24:00.515508Z",
     "start_time": "2024-04-16T21:24:00.511703Z"
    }
   },
   "execution_count": 133
  },
  {
   "cell_type": "code",
   "outputs": [
    {
     "data": {
      "text/plain": "275.90753005697735"
     },
     "execution_count": 134,
     "metadata": {},
     "output_type": "execute_result"
    }
   ],
   "source": [
    "delta = 0.75\n",
    "N_inv_delta = norm.ppf(delta)\n",
    "K_75 = S0 * np.exp(-N_inv_delta * sigma * np.sqrt(T) + (r - 0.5 * sigma**2) * T)\n",
    "K_75    "
   ],
   "metadata": {
    "collapsed": false,
    "ExecuteTime": {
     "end_time": "2024-04-16T21:24:00.691099Z",
     "start_time": "2024-04-16T21:24:00.687385Z"
    }
   },
   "execution_count": 134
  },
  {
   "cell_type": "code",
   "outputs": [
    {
     "data": {
      "text/plain": "28.80903631539175"
     },
     "execution_count": 135,
     "metadata": {},
     "output_type": "execute_result"
    }
   ],
   "source": [
    "d1 = (np.log(S0 / K) + (r + 0.5 * sigma**2) * T) / (sigma * np.sqrt(T))\n",
    "d2 = d1 - sigma * np.sqrt(T)\n",
    "call_price_75 = (S0 * norm.cdf(d1) - K * np.exp(-r * T) * norm.cdf(d2))\n",
    "call_price_75"
   ],
   "metadata": {
    "collapsed": false,
    "ExecuteTime": {
     "end_time": "2024-04-16T21:24:00.901285Z",
     "start_time": "2024-04-16T21:24:00.897114Z"
    }
   },
   "execution_count": 135
  },
  {
   "cell_type": "code",
   "outputs": [
    {
     "data": {
      "text/plain": "2.6033498371457116"
     },
     "execution_count": 137,
     "metadata": {},
     "output_type": "execute_result"
    }
   ],
   "source": [
    "#Q2.c\n",
    "lambda_25=0.25*S0/call_price_25\n",
    "lambda_25"
   ],
   "metadata": {
    "collapsed": false,
    "ExecuteTime": {
     "end_time": "2024-04-16T21:24:23.328939Z",
     "start_time": "2024-04-16T21:24:23.325187Z"
    }
   },
   "execution_count": 137
  },
  {
   "cell_type": "code",
   "outputs": [
    {
     "data": {
      "text/plain": "7.810049511437134"
     },
     "execution_count": 138,
     "metadata": {},
     "output_type": "execute_result"
    }
   ],
   "source": [
    "lambda_75=0.75*S0/call_price_75\n",
    "lambda_75"
   ],
   "metadata": {
    "collapsed": false,
    "ExecuteTime": {
     "end_time": "2024-04-16T21:24:46.938380Z",
     "start_time": "2024-04-16T21:24:46.934687Z"
    }
   },
   "execution_count": 138
  },
  {
   "cell_type": "markdown",
   "source": [
    "From the result above we could see the delta = 0.75 which leads to higher lambda. As a result ITM call lambda is higher."
   ],
   "metadata": {
    "collapsed": false
   }
  }
 ],
 "metadata": {
  "anaconda-cloud": {},
  "kernelspec": {
   "display_name": "Python 3",
   "language": "python",
   "name": "python3"
  },
  "language_info": {
   "codemirror_mode": {
    "name": "ipython",
    "version": 3
   },
   "file_extension": ".py",
   "mimetype": "text/x-python",
   "name": "python",
   "nbconvert_exporter": "python",
   "pygments_lexer": "ipython3",
   "version": "3.8.8"
  },
  "toc": {
   "base_numbering": 1,
   "nav_menu": {},
   "number_sections": true,
   "sideBar": true,
   "skip_h1_title": false,
   "title_cell": "Table of Contents",
   "title_sidebar": "Contents",
   "toc_cell": false,
   "toc_position": {},
   "toc_section_display": true,
   "toc_window_display": false
  },
  "colab": {
   "provenance": []
  }
 },
 "nbformat": 4,
 "nbformat_minor": 0
}
