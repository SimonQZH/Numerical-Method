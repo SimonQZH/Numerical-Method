{
 "cells": [
  {
   "cell_type": "code",
   "execution_count": 1,
   "metadata": {
    "id": "Dcd4oWAt46DD",
    "ExecuteTime": {
     "end_time": "2024-05-06T01:33:05.814528Z",
     "start_time": "2024-05-06T01:33:05.328837Z"
    }
   },
   "outputs": [],
   "source": [
    "import numpy as np\n",
    "from scipy.stats import norm"
   ]
  },
  {
   "cell_type": "code",
   "outputs": [],
   "source": [
    "#this assignment I worked with classmate and used GPT as well"
   ],
   "metadata": {
    "collapsed": false,
    "ExecuteTime": {
     "end_time": "2024-05-06T01:33:05.817431Z",
     "start_time": "2024-05-06T01:33:05.815958Z"
    }
   },
   "execution_count": 2
  },
  {
   "cell_type": "markdown",
   "metadata": {
    "id": "Jeby0NCp46DE"
   },
   "source": [
    "## Problem 1"
   ]
  },
  {
   "cell_type": "code",
   "outputs": [],
   "source": [
    "def BScallprice(sigma, S, rGrow, r, T, K):\n",
    "    F= S*np.exp(rGrow*T)\n",
    "    sd = sigma*np.sqrt(T)\n",
    "    d1 = np.log(F/K)/sd+sd/2\n",
    "    d2 = d1-sd\n",
    "    return np.exp(-r*T)*(F*norm.cdf(d1)-K*norm.cdf(d2))"
   ],
   "metadata": {
    "collapsed": false,
    "ExecuteTime": {
     "end_time": "2024-05-06T01:33:05.819869Z",
     "start_time": "2024-05-06T01:33:05.818019Z"
    }
   },
   "execution_count": 3
  },
  {
   "cell_type": "code",
   "execution_count": 4,
   "metadata": {
    "id": "9xOrWGQY46DF",
    "ExecuteTime": {
     "end_time": "2024-05-06T01:33:05.821887Z",
     "start_time": "2024-05-06T01:33:05.820431Z"
    }
   },
   "outputs": [],
   "source": [
    "class MultiGBM:\n",
    "\n",
    "    def __init__(self,S0,r,correlations,sigma):\n",
    "        self.S0 = S0\n",
    "        self.r = r\n",
    "        self.correlations = correlations\n",
    "        self.sigma = sigma"
   ]
  },
  {
   "cell_type": "code",
   "execution_count": 5,
   "metadata": {
    "id": "e0KMdNlr46DF",
    "ExecuteTime": {
     "end_time": "2024-05-06T01:33:05.824632Z",
     "start_time": "2024-05-06T01:33:05.822896Z"
    }
   },
   "outputs": [],
   "source": [
    "hw6p1dynamics = MultiGBM(S0=np.array([100,110]),r=0.05,\n",
    "                         correlations = np.array([[1,0.8],[0.8,1]]),\n",
    "                         sigma = np.diag([0.3, 0.2]))"
   ]
  },
  {
   "cell_type": "code",
   "execution_count": 6,
   "metadata": {
    "id": "YuUREwvH46DF",
    "ExecuteTime": {
     "end_time": "2024-05-06T01:33:05.826637Z",
     "start_time": "2024-05-06T01:33:05.825195Z"
    }
   },
   "outputs": [],
   "source": [
    "class CallOnBasket:\n",
    "\n",
    "    def __init__(self,K,T,weights):\n",
    "        self.K = K\n",
    "        self.T = T\n",
    "        self.weights = weights"
   ]
  },
  {
   "cell_type": "code",
   "execution_count": 7,
   "metadata": {
    "id": "52OH89tZ46DF",
    "ExecuteTime": {
     "end_time": "2024-05-06T01:33:05.828743Z",
     "start_time": "2024-05-06T01:33:05.827215Z"
    }
   },
   "outputs": [],
   "source": [
    "hw6p1contract=CallOnBasket(K=110,T=1.0,weights = np.array([1/2, 1/2]))"
   ]
  },
  {
   "cell_type": "code",
   "execution_count": 8,
   "metadata": {
    "id": "aRA8B9a046DG",
    "ExecuteTime": {
     "end_time": "2024-05-06T01:33:05.972956Z",
     "start_time": "2024-05-06T01:33:05.966087Z"
    }
   },
   "outputs": [],
   "source": [
    "class MCengine:\n",
    "\n",
    "    def __init__(self, M, antithetic, control, seed):\n",
    "        self.M = M                                  # How many simulations\n",
    "        self.antithetic = antithetic\n",
    "        self.control = control\n",
    "        self.rng = np.random.default_rng(seed=seed) # Seeding the random number generator with a specified number helps make the calculations reproducible\n",
    "\n",
    "    def price_callonbasket_multiGBM(self,contract,dynamics):\n",
    "\n",
    "        # You complete the coding of this function.\n",
    "        # self.rng.multivariate_normal may be useful.\n",
    "        # See documentation for numpy.random.Generator.multivariate_normal\n",
    "        # as self.rng is an instance of numpy.random.Generator\n",
    "\n",
    "        # You are not required to support the case where MC.control = MC.antithetic = True\n",
    "        # (simultaneous use of control variate and antithetic)\n",
    "        # But you are required to support the other 3 possible settings of MC.antithetic/MC.control\n",
    "        # namely False/False, True/False, False/True.\n",
    "        # (ordinary MC, antithetic without control, control without antithetic)\n",
    "        \n",
    "        K, T, weights = contract.K, contract.T, contract.weights\n",
    "        S0, r, corr, sigma = dynamics.S0, dynamics.r, dynamics.correlations, dynamics.sigma\n",
    "        \n",
    "        L = np.linalg.cholesky(corr)\n",
    "        X_0 = (np.ones((self.M, len(S0)))*np.log(S0)).T\n",
    "        sigma_mat = (np.ones((self.M, len(S0))) * np.diag(sigma)).T\n",
    "        \n",
    "        dW_T = self.rng.standard_normal((len(S0), self.M))  * np.sqrt(T) \n",
    "        X_T = X_0 + (r-sigma_mat**2/2)*T + sigma.dot(L.dot(dW_T))\n",
    "        \n",
    "        S_T=np.exp(X_T)\n",
    "        H_T= [i.sum() for i in (S_T.T * weights)]\n",
    "        C_T=[max(0,i-110)*np.exp(-r*T) for i in H_T]\n",
    "        \n",
    "        price=np.mean(C_T)\n",
    "        std=np.std(C_T) / np.sqrt(self.M)\n",
    "        \n",
    "        if self.antithetic:\n",
    "            \n",
    "            X_T_hat = X_0 + (r-sigma_mat**2/2)*T - sigma.dot(L.dot(dW_T))\n",
    "            S_T_hat=np.exp(X_T_hat)\n",
    "            H_T_hat= [i.sum() for i in (S_T_hat.T * weights)]\n",
    "            C_T_hat=[max(0,i-110)*np.exp(-r*T) for i in H_T_hat]\n",
    "            C_T = np.array(C_T)\n",
    "            C_T_hat = np.array(C_T_hat)\n",
    "\n",
    "            # Calculate the average of C_T and C_T_hat\n",
    "            price = np.mean((C_T + C_T_hat) * 0.5)\n",
    "            \n",
    "            std=np.std((C_T_hat+C_T)*0.5)/np.sqrt(self.M)\n",
    "        \n",
    "        if self.control:\n",
    "            sig = np.sqrt(sigma[0,0]**2 + sigma[1,1]**2 + 2*sigma[0,0]*sigma[1,1]*corr[0,1])/2\n",
    "            S = (S0[0]*S0[1])**0.5\n",
    "            rGrow = r + (2*sigma[0,0]*sigma[1,1]*corr[0,1] - sigma[0,0]**2 - sigma[1,1]**2)/8\n",
    "            \n",
    "            C_BS = BScallprice(sig, S, rGrow, r, T, K)\n",
    "           \n",
    "            X_T_star = [np.exp(i.sum()) for i in (X_T.T * weights)]\n",
    "            C_T_hat = [np.exp(-r*T) * np.maximum(i-K, 0) for i in X_T_star]\n",
    "            \n",
    "            cov = np.cov(C_T, C_T_hat)\n",
    "            beta = cov[0,1] / cov[1,1]\n",
    "            Y_hat = C_T + beta*(C_BS - C_T_hat)\n",
    "            price = np.mean(Y_hat)\n",
    "            std = np.std(Y_hat) / np.sqrt(self.M)\n",
    "        return price,std\n",
    "        "
   ]
  },
  {
   "cell_type": "code",
   "execution_count": 9,
   "metadata": {
    "id": "rmREi1sy46DG",
    "ExecuteTime": {
     "end_time": "2024-05-06T01:33:06.179262Z",
     "start_time": "2024-05-06T01:33:06.159285Z"
    }
   },
   "outputs": [
    {
     "name": "stdout",
     "output_type": "stream",
     "text": [
      "10.017730826653947 0.16634240528457853\n"
     ]
    }
   ],
   "source": [
    "hw6p1bMC=MCengine(M=10000,antithetic=False,control=False,seed=0)\n",
    "(call_price_ordinary, std_err_ordinary) = hw6p1bMC.price_callonbasket_multiGBM(hw6p1contract,hw6p1dynamics)\n",
    "print(call_price_ordinary, std_err_ordinary)"
   ]
  },
  {
   "cell_type": "code",
   "execution_count": 10,
   "metadata": {
    "id": "6bLwGWTM46DG",
    "ExecuteTime": {
     "end_time": "2024-05-06T01:33:06.396074Z",
     "start_time": "2024-05-06T01:33:06.361729Z"
    }
   },
   "outputs": [
    {
     "name": "stdout",
     "output_type": "stream",
     "text": [
      "9.931977784679844 0.09470581439484105\n"
     ]
    }
   ],
   "source": [
    "#Q1.c\n",
    "hw6p1cMC=MCengine(M=10000,antithetic=True,control=False,seed=0)\n",
    "(call_price_AV, std_err_AV) = hw6p1cMC.price_callonbasket_multiGBM(hw6p1contract,hw6p1dynamics)\n",
    "print(call_price_AV, std_err_AV)"
   ]
  },
  {
   "cell_type": "code",
   "execution_count": 11,
   "metadata": {
    "id": "VBGSqqgY46DG",
    "ExecuteTime": {
     "end_time": "2024-05-06T01:33:06.855275Z",
     "start_time": "2024-05-06T01:33:06.820359Z"
    }
   },
   "outputs": [
    {
     "name": "stdout",
     "output_type": "stream",
     "text": [
      "9.98560977855196 0.004414504374051334\n"
     ]
    }
   ],
   "source": [
    "#Q1.e\n",
    "hw6p1fMC=MCengine(M=10000,antithetic=False,control=True,seed=0)\n",
    "(call_price_CV, std_err_CV) = hw6p1fMC.price_callonbasket_multiGBM(hw6p1contract,hw6p1dynamics)\n",
    "print(call_price_CV, std_err_CV)"
   ]
  },
  {
   "cell_type": "markdown",
   "metadata": {
    "id": "qGknbqw346DG"
   },
   "source": [
    "## Problem 2"
   ]
  },
  {
   "cell_type": "code",
   "execution_count": 12,
   "metadata": {
    "id": "7Ij9oOIK46DH",
    "ExecuteTime": {
     "end_time": "2024-05-06T01:33:07.244144Z",
     "start_time": "2024-05-06T01:33:07.241438Z"
    }
   },
   "outputs": [],
   "source": [
    "class GBM:\n",
    "\n",
    "    def __init__(self,sigma,r,S0):\n",
    "        self.sigma = sigma\n",
    "        self.r = r\n",
    "        self.S0 = S0"
   ]
  },
  {
   "cell_type": "code",
   "execution_count": 13,
   "metadata": {
    "id": "sJlC7Oer46DH",
    "ExecuteTime": {
     "end_time": "2024-05-06T01:33:08.276745Z",
     "start_time": "2024-05-06T01:33:08.273907Z"
    }
   },
   "outputs": [],
   "source": [
    "hw6p2dynamics=GBM(sigma=0.2,r=0.02,S0=100)"
   ]
  },
  {
   "cell_type": "code",
   "execution_count": 14,
   "metadata": {
    "id": "YwUReruu46DH",
    "ExecuteTime": {
     "end_time": "2024-05-06T01:33:08.473900Z",
     "start_time": "2024-05-06T01:33:08.471097Z"
    }
   },
   "outputs": [],
   "source": [
    "class CallOption:\n",
    "\n",
    "    def __init__(self,K,T):\n",
    "        self.K=K\n",
    "        self.T=T"
   ]
  },
  {
   "cell_type": "code",
   "execution_count": 15,
   "metadata": {
    "id": "s-s2e_F246DH",
    "ExecuteTime": {
     "end_time": "2024-05-06T01:33:08.708429Z",
     "start_time": "2024-05-06T01:33:08.705960Z"
    }
   },
   "outputs": [],
   "source": [
    "hw6p2contract=CallOption(K=150,T=1)"
   ]
  },
  {
   "cell_type": "code",
   "execution_count": 16,
   "metadata": {
    "id": "XkV2FaBs46DH",
    "ExecuteTime": {
     "end_time": "2024-05-06T01:33:08.920708Z",
     "start_time": "2024-05-06T01:33:08.915211Z"
    }
   },
   "outputs": [],
   "source": [
    "class MCimportanceEngine:\n",
    "\n",
    "    def __init__(self, M, lamb, seed):\n",
    "        self.M = M                                  # How many simulations\n",
    "        self.lamb = lamb                            # drift adjustment\n",
    "        self.rng = np.random.default_rng(seed=seed) # Seeding the random number generator with a specified number helps make the calculations reproducible\n",
    "\n",
    "    def price_call_GBM(self, contract,dynamics):\n",
    "\n",
    "        # You complete the coding of this function.\n",
    "        # self.rng.normal may be useful.\n",
    "        # See documentation for numpy.random.Generator.normal\n",
    "        # as self.rng is an instance of numpy.random.Generator\n",
    "        \n",
    "        \n",
    "        K, T = contract.K, contract.T\n",
    "        S0, r,  sigma = dynamics.S0, dynamics.r,  dynamics.sigma\n",
    "        \n",
    "       \n",
    "        drift= r - 0.5*sigma**2 + self.lamb*sigma    \n",
    "        X_0 = (np.ones((self.M, 1))*np.log(S0)).T\n",
    "        \n",
    "        \n",
    "        dW_T = self.rng.standard_normal((1, self.M))  * np.sqrt(T) \n",
    "        \n",
    "        X_T = X_0 + (drift)*T + sigma * dW_T\n",
    "        \n",
    "        S_T=np.exp(X_T)\n",
    "        \n",
    "        \n",
    "        C_T = np.maximum(S_T - K, 0) * np.exp(-r * T)* np.exp(-self.lamb *dW_T - 0.5*self.lamb**2 *T)\n",
    "        \n",
    "        \n",
    "        price=np.mean(C_T)\n",
    "        std=np.std(C_T) / np.sqrt(self.M)\n",
    "        \n",
    "        return(price, std)\n"
   ]
  },
  {
   "cell_type": "code",
   "execution_count": 17,
   "metadata": {
    "id": "WccmST9O46DH",
    "ExecuteTime": {
     "end_time": "2024-05-06T01:33:09.139337Z",
     "start_time": "2024-05-06T01:33:09.132026Z"
    }
   },
   "outputs": [
    {
     "name": "stdout",
     "output_type": "stream",
     "text": [
      "0.25270332833609405 0.007609255246434601\n"
     ]
    }
   ],
   "source": [
    "hw6p2aMC=MCimportanceEngine(M=100000,lamb=0,seed=0) #zero drift adjustment gives ordinary MC\n",
    "\n",
    "(call_price_ordinary, std_err_ordinary) =  hw6p2aMC.price_call_GBM(hw6p2contract,hw6p2dynamics)\n",
    "print(call_price_ordinary, std_err_ordinary)"
   ]
  },
  {
   "cell_type": "code",
   "outputs": [
    {
     "name": "stdout",
     "output_type": "stream",
     "text": [
      "2.4038764395624455\n"
     ]
    }
   ],
   "source": [
    "#Q2.b\n",
    "ES_T = 165\n",
    "S_0 = 100\n",
    "r = 0.02\n",
    "T = 1\n",
    "K = 150\n",
    "sigma=0.2\n",
    "lamb= (np.log(ES_T/S_0)/T - r ) / sigma\n",
    "print(lamb)"
   ],
   "metadata": {
    "collapsed": false,
    "ExecuteTime": {
     "end_time": "2024-05-06T01:33:45.945190Z",
     "start_time": "2024-05-06T01:33:45.941743Z"
    }
   },
   "execution_count": 20
  },
  {
   "cell_type": "code",
   "execution_count": 21,
   "metadata": {
    "id": "wjwZIDnU46DH",
    "ExecuteTime": {
     "end_time": "2024-05-06T01:33:46.532873Z",
     "start_time": "2024-05-06T01:33:46.528013Z"
    }
   },
   "outputs": [
    {
     "name": "stdout",
     "output_type": "stream",
     "text": [
      "0.24843662621391432 0.0007734233296681479\n"
     ]
    }
   ],
   "source": [
    "\n",
    "#Q2.c\n",
    "hw6p2cMC=MCimportanceEngine(M=100000, lamb= lamb ,seed=0) # Fill in the lamb parameter with the lambda that you compute in (b) \n",
    "(call_price_importsamp, std_err_importsamp) =  hw6p2cMC.price_call_GBM(hw6p2contract,hw6p2dynamics)\n",
    "print(call_price_importsamp, std_err_importsamp)"
   ]
  },
  {
   "cell_type": "code",
   "outputs": [],
   "source": [],
   "metadata": {
    "collapsed": false
   }
  }
 ],
 "metadata": {
  "anaconda-cloud": {},
  "kernelspec": {
   "display_name": "Python 3",
   "language": "python",
   "name": "python3"
  },
  "language_info": {
   "codemirror_mode": {
    "name": "ipython",
    "version": 3
   },
   "file_extension": ".py",
   "mimetype": "text/x-python",
   "name": "python",
   "nbconvert_exporter": "python",
   "pygments_lexer": "ipython3",
   "version": "3.8.8"
  },
  "toc": {
   "base_numbering": 1,
   "nav_menu": {},
   "number_sections": true,
   "sideBar": true,
   "skip_h1_title": false,
   "title_cell": "Table of Contents",
   "title_sidebar": "Contents",
   "toc_cell": false,
   "toc_position": {},
   "toc_section_display": true,
   "toc_window_display": false
  },
  "colab": {
   "provenance": []
  }
 },
 "nbformat": 4,
 "nbformat_minor": 0
}
