{
 "cells": [
  {
   "cell_type": "code",
   "execution_count": 3,
   "metadata": {
    "id": "E0WlTWDdBvnG",
    "ExecuteTime": {
     "end_time": "2024-04-28T20:37:10.637489Z",
     "start_time": "2024-04-28T20:37:10.572959Z"
    }
   },
   "outputs": [],
   "source": [
    "import numpy as np\n",
    "import statistics"
   ]
  },
  {
   "cell_type": "code",
   "execution_count": 4,
   "metadata": {
    "id": "Ft75a8kKBvnI",
    "ExecuteTime": {
     "end_time": "2024-04-28T20:37:10.895590Z",
     "start_time": "2024-04-28T20:37:10.893687Z"
    }
   },
   "outputs": [],
   "source": [
    "# Exponential Ornstein-Uhlenbeck process\n",
    "\n",
    "class XOU:\n",
    "\n",
    "    def __init__(self, kappa, alpha, sigma, S0, r):\n",
    "\n",
    "        self.kappa = kappa\n",
    "        self.alpha = alpha\n",
    "        self.sigma = sigma\n",
    "        self.S0 = S0\n",
    "        self.r = r"
   ]
  },
  {
   "cell_type": "code",
   "execution_count": 5,
   "metadata": {
    "id": "IcEYQHQ0BvnJ",
    "ExecuteTime": {
     "end_time": "2024-04-28T20:37:11.235631Z",
     "start_time": "2024-04-28T20:37:11.233918Z"
    }
   },
   "outputs": [],
   "source": [
    "hw5dynamics=XOU(kappa = 0.472, alpha = 4.4, sigma = 0.368, S0 = 106.9, r = 0.05)"
   ]
  },
  {
   "cell_type": "code",
   "execution_count": 6,
   "metadata": {
    "id": "5LmdWqdCBvnK",
    "ExecuteTime": {
     "end_time": "2024-04-28T20:37:11.566855Z",
     "start_time": "2024-04-28T20:37:11.563739Z"
    }
   },
   "outputs": [],
   "source": [
    "class CallOnForwardPrice:\n",
    "\n",
    "    def __init__(self, K1, T1, T2):\n",
    "\n",
    "        self.K1 = K1\n",
    "        self.T1 = T1\n",
    "        self.T2 = T2\n"
   ]
  },
  {
   "cell_type": "code",
   "execution_count": 7,
   "metadata": {
    "id": "RsteLMcfBvnK",
    "ExecuteTime": {
     "end_time": "2024-04-28T20:37:11.901469Z",
     "start_time": "2024-04-28T20:37:11.899557Z"
    }
   },
   "outputs": [],
   "source": [
    "hw5contract=CallOnForwardPrice(K1 = 103.2, T1 = 0.5, T2 = 0.75)"
   ]
  },
  {
   "cell_type": "code",
   "execution_count": 51,
   "metadata": {
    "id": "edbQw63pBvnK",
    "ExecuteTime": {
     "end_time": "2024-04-28T21:24:16.443497Z",
     "start_time": "2024-04-28T21:24:16.431568Z"
    }
   },
   "outputs": [],
   "source": [
    "class MCengine:\n",
    "\n",
    "    def __init__(self, N, M, epsilon, seed):\n",
    "\n",
    "        self.N = N   # Number of timesteps on each path\n",
    "        self.M = M   # Number of paths\n",
    "        self.epsilon = epsilon  # For the dC/dS calculation\n",
    "        self.rng = np.random.default_rng(seed=seed) # Seeding the random number generator with a specified number helps make the calculations reproducible\n",
    "    \n",
    "    \n",
    "    def price_call_XOU(self, contract, dynamics):\n",
    "\n",
    "        # You complete the coding of this function\n",
    "        # self.rng.normal() generates pseudo-random normals\n",
    "        \n",
    "        self.rng.normal()\n",
    "        # Risk-Neutral Dynamics Parameters\n",
    "        K1, T1, T2 = contract.K1, contract.T1, contract.T2\n",
    "        kappa, alpha, sigma, S0, r = dynamics.kappa, dynamics.alpha, dynamics.sigma, dynamics.S0, dynamics.r\n",
    "        N, M, epsilon = self.N, self.M, self.epsilon\n",
    "        deltat = T1 / N\n",
    "        t = np.linspace(0, T1, num= N+1)\n",
    "        S0_delta = S0 + epsilon\n",
    "        \n",
    "        \n",
    "        St=[]\n",
    "        Call_price=[]\n",
    "        St_delta=[]\n",
    "        Call_price_delta=[]\n",
    "        Ft=[]\n",
    "        Ft_delta=[]\n",
    "        #simulate M paths by N steps from time 0 to T1\n",
    "        for _ in range(M):\n",
    "            # Make Brownian Motion\n",
    "            Zt = np.random.normal(0, 1, size=N)\n",
    "            Wt = np.sqrt(deltat) * Zt\n",
    "            \n",
    "            X0 = np.log(S0)\n",
    "            X0_delta=np.log(S0_delta)\n",
    "            Xt = [X0]\n",
    "            Xt_delta=[X0_delta]\n",
    "            # Iterate through all timesteps for the path\n",
    "            for i in range(N):\n",
    "            # Update next Xt position based on dynamics and store to list\n",
    "                X_next = Xt[i] + (kappa * (alpha - Xt[i]) * deltat) + sigma * Wt[i]\n",
    "                Xt.append(X_next)\n",
    "            \n",
    "                X_next_delta = Xt_delta[i] + (kappa * (alpha - Xt_delta[i]) * deltat) + sigma * Wt[i]\n",
    "                Xt_delta.append(X_next_delta)\n",
    "            \n",
    "            \n",
    "            St.append(np.exp(Xt[-1]))\n",
    "            St_delta.append(np.exp(Xt_delta[-1]))\n",
    "        \n",
    "        for i in range(len(St)):\n",
    "            \n",
    "            time = T2 - T1 \n",
    "            Ft_cal=np.exp( (np.exp(-kappa * time) * np.log(St[i])) +\n",
    "                (alpha * (1 - np.exp(-kappa * time))) +\n",
    "                (((sigma ** 2) / (4 * kappa)) * (1 - np.exp(-2 * kappa * time)))\n",
    "                )\n",
    "            Ft.append(Ft_cal)\n",
    "            Ft_delta_cal=np.exp( (np.exp(-kappa * time) * np.log(St_delta[i])) +\n",
    "                (alpha * (1 - np.exp(-kappa * time))) +\n",
    "                (((sigma ** 2) / (4 * kappa)) * (1 - np.exp(-2 * kappa * time)))\n",
    "                )\n",
    "            Ft_delta.append(Ft_delta_cal)\n",
    "            \n",
    "            payoff=np.exp(-r*T1)*np.max([Ft_cal - K1,0])\n",
    "            payoff_delta=np.exp(-r*T1)*np.max([Ft_delta_cal - K1,0])\n",
    "            \n",
    "            Call_price.append(payoff)\n",
    "            Call_price_delta.append(payoff_delta)\n",
    "        \n",
    "        \n",
    "        \n",
    "        call_price=np.mean(Call_price)\n",
    "        standard_error=np.std(Call_price)/np.sqrt(M)\n",
    "        call_delta=(np.mean(Call_price_delta) - call_price) / epsilon\n",
    "        \n",
    "                \n",
    "        return(call_price, standard_error, call_delta)\n"
   ]
  },
  {
   "cell_type": "code",
   "execution_count": 52,
   "metadata": {
    "id": "AkFjvy7EBvnL",
    "ExecuteTime": {
     "end_time": "2024-04-28T21:24:16.726871Z",
     "start_time": "2024-04-28T21:24:16.723970Z"
    }
   },
   "outputs": [],
   "source": [
    "hw5MC = MCengine(N=100, M=100000, epsilon=0.01, seed=0)\n",
    "# Change M if necessary"
   ]
  },
  {
   "cell_type": "code",
   "execution_count": 53,
   "metadata": {
    "id": "Qy5j1gHeBvnL",
    "ExecuteTime": {
     "end_time": "2024-04-28T21:24:22.773120Z",
     "start_time": "2024-04-28T21:24:16.906917Z"
    }
   },
   "outputs": [],
   "source": [
    "(call_price, standard_error, call_delta) = hw5MC.price_call_XOU(hw5contract,hw5dynamics)"
   ]
  },
  {
   "cell_type": "code",
   "execution_count": 54,
   "metadata": {
    "id": "GSh_9GfbBvnL",
    "ExecuteTime": {
     "end_time": "2024-04-28T21:24:22.775788Z",
     "start_time": "2024-04-28T21:24:22.774049Z"
    }
   },
   "outputs": [
    {
     "name": "stdout",
     "output_type": "stream",
     "text": [
      "7.801332927608759 0.0420544686787495 0.34276938630322107\n"
     ]
    }
   ],
   "source": [
    "print(call_price, standard_error, call_delta)"
   ]
  },
  {
   "cell_type": "code",
   "outputs": [],
   "source": [],
   "metadata": {
    "collapsed": false
   }
  },
  {
   "cell_type": "code",
   "outputs": [
    {
     "data": {
      "text/plain": "[0.39732038579545226, 0.380171291551053, 0.2950972521755995]"
     },
     "execution_count": 63,
     "metadata": {},
     "output_type": "execute_result"
    }
   ],
   "source": [
    "#Q2.b\n",
    "from scipy.stats import norm\n",
    "from scipy.optimize import brentq\n",
    "import numpy as np\n",
    "\n",
    "def black_scholes_call(S, K, T, r, sigma):\n",
    "    d1 = (np.log(S / K) + (r + 0.5 * sigma**2) * T) / (sigma * np.sqrt(T))\n",
    "    d2 = d1 - sigma * np.sqrt(T)\n",
    "    return S * norm.cdf(d1) - K * np.exp(-r * T) * norm.cdf(d2)\n",
    "\n",
    "def implied_volatility(S, K, T, r, market_price):\n",
    "    objective = lambda sigma: black_scholes_call(S, K, T, r, sigma) - market_price\n",
    "    return brentq(objective, 0.01, 2.0)\n",
    "\n",
    "# Market data\n",
    "S = 100\n",
    "K = 100\n",
    "r = 0.05\n",
    "expiries = [0.1, 0.2, 0.5]\n",
    "market_prices = [5.25, 7.25, 9.5]\n",
    "\n",
    "# Calculate implied volatilities\n",
    "implied_vols = [implied_volatility(S, K, T, r, price) for T, price in zip(expiries, market_prices)]\n",
    "implied_vols"
   ],
   "metadata": {
    "collapsed": false,
    "ExecuteTime": {
     "end_time": "2024-04-28T22:44:35.766573Z",
     "start_time": "2024-04-28T22:44:34.874504Z"
    }
   },
   "execution_count": 63
  },
  {
   "cell_type": "code",
   "outputs": [
    {
     "data": {
      "text/plain": "8.391054915812"
     },
     "execution_count": 64,
     "metadata": {},
     "output_type": "execute_result"
    }
   ],
   "source": [
    "#Q2.b\n",
    "#t=0.4 vol=0.295\n",
    "black_scholes_call(S, K, 0.4, r, 0.295)"
   ],
   "metadata": {
    "collapsed": false,
    "ExecuteTime": {
     "end_time": "2024-04-28T22:48:13.068838Z",
     "start_time": "2024-04-28T22:48:13.064200Z"
    }
   },
   "execution_count": 64
  },
  {
   "cell_type": "code",
   "outputs": [
    {
     "data": {
      "text/plain": "5.24597934211392"
     },
     "execution_count": 65,
     "metadata": {},
     "output_type": "execute_result"
    }
   ],
   "source": [
    "#t=0.1 vol=0.397\n",
    "black_scholes_call(S, K, 0.1, r, 0.397)"
   ],
   "metadata": {
    "collapsed": false,
    "ExecuteTime": {
     "end_time": "2024-04-28T22:49:07.288234Z",
     "start_time": "2024-04-28T22:49:07.283006Z"
    }
   },
   "execution_count": 65
  },
  {
   "cell_type": "code",
   "outputs": [],
   "source": [],
   "metadata": {
    "collapsed": false
   }
  }
 ],
 "metadata": {
  "anaconda-cloud": {},
  "kernelspec": {
   "display_name": "Python 3",
   "language": "python",
   "name": "python3"
  },
  "language_info": {
   "codemirror_mode": {
    "name": "ipython",
    "version": 3
   },
   "file_extension": ".py",
   "mimetype": "text/x-python",
   "name": "python",
   "nbconvert_exporter": "python",
   "pygments_lexer": "ipython3",
   "version": "3.8.8"
  },
  "toc": {
   "base_numbering": 1,
   "nav_menu": {},
   "number_sections": true,
   "sideBar": true,
   "skip_h1_title": false,
   "title_cell": "Table of Contents",
   "title_sidebar": "Contents",
   "toc_cell": false,
   "toc_position": {},
   "toc_section_display": true,
   "toc_window_display": false
  },
  "colab": {
   "provenance": []
  }
 },
 "nbformat": 4,
 "nbformat_minor": 0
}
